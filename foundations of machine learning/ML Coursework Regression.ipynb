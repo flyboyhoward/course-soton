{
 "cells": [
  {
   "cell_type": "code",
   "execution_count": 1,
   "metadata": {},
   "outputs": [],
   "source": [
    "%matplotlib inline \n",
    "import os\n",
    "import math\n",
    "import numpy as np\n",
    "import pandas as pd\n",
    "import matplotlib.pyplot as plt"
   ]
  },
  {
   "cell_type": "markdown",
   "metadata": {},
   "source": [
    "### 5.1"
   ]
  },
  {
   "cell_type": "code",
   "execution_count": 2,
   "metadata": {},
   "outputs": [],
   "source": [
    "# define fit A mat\n",
    "def designmatpoly(X, wtvector):\n",
    "    X = X[:,0]\n",
    "    A_traint = np.ones(X.shape)\n",
    "    #print (len(wtvector), np.shape(A_traint))    \n",
    "    \n",
    "    for i in range(len(wtvector)-1):\n",
    "        X_row = X**(i + 1)\n",
    "        A_traint = np.vstack((A_traint, X_row))         \n",
    "    A_train = A_traint.T\n",
    "    #print (np.shape(A_train))\n",
    "    return A_train\n",
    "\n",
    "# regularisation gradient descent function\n",
    "def reg_gradientdescent(w, X, y, l2, rate, n_iterations):\n",
    "    wtseq = [w]\n",
    "    for iteration in range(n_iterations):\n",
    "        #print('iteration is:', iteration)\n",
    "        gradients =  2/len(X) * X.T.dot(X.dot(w) - y) + 2 * l2 * w\n",
    "        #print ('gradients',gradients)\n",
    "        w = w - rate * gradients\n",
    "    print ('final gradient',gradients)\n",
    "    return w\n",
    "\n",
    "# squared residuals\n",
    "def squared_residual(x_test, y_test, wt):\n",
    "    residual = 0\n",
    "    x_test = x_test[:,0]\n",
    "    \n",
    "    for i in range(len(x_test)):\n",
    "        y_predi = 0\n",
    "        x_testi = x_test[i]\n",
    "        for wti in range(len(wt)):\n",
    "            y_predi += wt[wti]*np.power(x_testi, wti)\n",
    "        residual += (y_test[i] - y_predi)**2   \n",
    "    #print('residual is:************ ', residual)\n",
    "    return residual\n",
    "\n",
    "# predicted value\n",
    "def predict(x, wt):    \n",
    "    y_pred = []\n",
    "    \n",
    "    for i in range(len(x)):\n",
    "        y_predi = 0\n",
    "        x_i = x[i]\n",
    "        for wti in range(len(wt)):\n",
    "            y_predi += wt[wti]*np.power(x_i, wti)\n",
    "#             print(wt[wti]*np.power(x_i, wti))\n",
    "#             print('---------------------------------')\n",
    "#         print('*************')\n",
    "        y_pred.append(y_predi)\n",
    "#   print('y_pred shape',np.shape(y_pred))\n",
    "    return y_pred"
   ]
  },
  {
   "cell_type": "code",
   "execution_count": 87,
   "metadata": {
    "scrolled": false
   },
   "outputs": [
    {
     "name": "stdout",
     "output_type": "stream",
     "text": [
      "final gradient [ 7.72428281e-04  3.11741623e-04 -7.70986523e-04  2.48855584e-04\n",
      " -2.21458591e-05]\n",
      "init wt  [1. 1. 1. 1. 1.]\n",
      "final weight  [ 0.14293039  0.16885406  0.1343031  -0.10502954  0.01258108]\n",
      "residual: 6.097312266350647  degree: 5\n",
      "~~~~~~~~~~~~~~~~~~~~~~~~~~~~~~~~~~~~~~~~~~~~~~~~~~~~~~~~~~~~~~~~~~~~~~~~~~~~~\n",
      "final gradient [ 0.62145286  0.41913678  0.06025966 -0.31338489  0.09671599 -0.00808752]\n",
      "init wt  [1. 1. 1. 1. 1. 1.]\n",
      "final weight  [ 3.50845766e-01  2.83002949e-01  1.07319133e-01 -1.25547153e-01\n",
      "  1.73323288e-02 -2.04372491e-04]\n",
      "residual: 2.024545340699387  degree: 6\n",
      "~~~~~~~~~~~~~~~~~~~~~~~~~~~~~~~~~~~~~~~~~~~~~~~~~~~~~~~~~~~~~~~~~~~~~~~~~~~~~\n",
      "final gradient [ 0.64280761  0.55229309  0.39866464  0.09498492 -0.28486216  0.08076793\n",
      " -0.00636986]\n",
      "init wt  [1. 1. 1. 1. 1. 1. 1.]\n",
      "final weight  [ 0.46037204  0.38845463  0.21827648 -0.0044436  -0.11742505  0.03341382\n",
      " -0.00251822]\n",
      "residual: 1.8420465450751973  degree: 7\n",
      "~~~~~~~~~~~~~~~~~~~~~~~~~~~~~~~~~~~~~~~~~~~~~~~~~~~~~~~~~~~~~~~~~~~~~~~~~~~~~\n"
     ]
    },
    {
     "data": {
      "image/png": "[encoded data removed]",
      "text/plain": [
       "<Figure size 432x288 with 1 Axes>"
      ]
     },
     "metadata": {},
     "output_type": "display_data"
    }
   ],
   "source": [
    "from sklearn.model_selection import train_test_split\n",
    "\n",
    "def f(x):\n",
    "    return np.sin(x)\n",
    "\n",
    "points = 180\n",
    "X=np.linspace(0, 2*np.pi,points)\n",
    "y= f(X)+np.random.normal(0,0.05,points)  # np.sqrt(np.abs(X))*\n",
    "X = np.atleast_2d(X).T\n",
    "\n",
    "X_train, X_test, y_train, y_test = train_test_split(X, y, test_size=0.33, random_state=40)\n",
    "#y_train = np.expand_dims(y_train, axis=1)\n",
    "plt.scatter(X_train,y_train, c='b')\n",
    "plt.scatter(X_test, y_test, c='r')\n",
    "\n",
    "for i in range(3):\n",
    "    degree = i + 5\n",
    "    w0 = np.ones(degree)  # polynomial degree\n",
    "    A_train = designmatpoly(X_train, w0)\n",
    "    \n",
    "    if degree == 5:\n",
    "        wtfin = reg_gradientdescent(w0, A_train, y_train, 1, rate = 0.0000015, n_iterations = 2000000) # take lamda = 1 here\n",
    "    elif degree == 6:\n",
    "        wtfin = reg_gradientdescent(w0, A_train, y_train, 1, rate = 0.00000001, n_iterations = 40000000) # take lamda = 1 here\n",
    "    elif degree == 7:\n",
    "        wtfin = reg_gradientdescent(w0, A_train, y_train, 0.5, rate = 0.000000002, n_iterations = 200000000) # take lamda = 1 here\n",
    "    else:\n",
    "        pass\n",
    "    print('init wt ',w0)\n",
    "    print('final weight ',wtfin)\n",
    "    resid = squared_residual(X_test, y_test, wtfin)\n",
    "    ypred = predict(X, wtfin)\n",
    "    plt.plot(X, ypred)\n",
    "    title = 'residual: ' + str(resid) + '  degree: ' + str(degree)\n",
    "    print(title)\n",
    "    print('~~~~~~~~~~~~~~~~~~~~~~~~~~~~~~~~~~~~~~~~~~~~~~~~~~~~~~~~~~~~~~~~~~~~~~~~~~~~~')"
   ]
  },
  {
   "cell_type": "code",
   "execution_count": 85,
   "metadata": {},
   "outputs": [
    {
     "data": {
      "text/plain": [
       "[<matplotlib.lines.Line2D at 0x20197629ac8>]"
      ]
     },
     "execution_count": 85,
     "metadata": {},
     "output_type": "execute_result"
    },
    {
     "data": {
      "image/png": "[encoded data removed]",
      "text/plain": [
       "<Figure size 432x288 with 1 Axes>"
      ]
     },
     "metadata": {},
     "output_type": "display_data"
    }
   ],
   "source": [
    "plt.scatter(X_train,y_train, c='b')\n",
    "plt.scatter(X_test, y_test, c='r')\n",
    "ypred = predict(X, wtfin)\n",
    "plt.plot(X, ypred)"
   ]
  },
  {
   "cell_type": "markdown",
   "metadata": {},
   "source": [
    "[ 0.11808554  0.19689184  0.31727733 -0.19938172  0.02653888 -0.00056433]\n",
    "[ 0.46099906  0.39040219  0.2214649  -0.00202124 -0.11955822  0.03388069\n",
    " -0.00255063]\n"
   ]
  },
  {
   "cell_type": "markdown",
   "metadata": {},
   "source": [
    "### 5.2 "
   ]
  },
  {
   "cell_type": "code",
   "execution_count": 14,
   "metadata": {},
   "outputs": [
    {
     "name": "stdout",
     "output_type": "stream",
     "text": [
      "KFold(n_splits=2, random_state=None, shuffle=False)\n",
      "TRAIN: [2 3] TEST: [0 1]\n",
      "TRAIN: [0 1] TEST: [2 3]\n"
     ]
    }
   ],
   "source": [
    "from sklearn.model_selection import KFold\n",
    "kf = KFold(n_splits = 10)\n",
    "kf.get_n_splits(X)\n",
    "wtseq = []\n",
    "residseq = []\n",
    "print(kf)  \n",
    "w0 = np.ones(6)  # polynomial degree\n",
    "\n",
    "for train_index, test_index in kf.split(X):\n",
    "    \n",
    "    #print(\"TRAIN:\", train_index, \"TEST:\", test_index)\n",
    "    X_train, X_test = X[train_index], X[test_index]\n",
    "    y_train, y_test = y[train_index], y[test_index]\n",
    "    A_train = designmatpoly(X_train, w0)\n",
    "    wtfin = reg_gradientdescent(w0, A_train, y_train, 0.5, rate = 0.00000001, n_iterations = 40000000) # take lamda = 1 here\n",
    "    wtseq.append(wtfin)\n",
    "    resid = squared_residual(X_train, y_train, wtfin)\n",
    "    print('residual is: ', resid)\n",
    "    residseq.append(resid)\n",
    "    \n",
    "plt.scatter(X, y, c='b')\n",
    "\n",
    "\n",
    "wtseq = np.asarray(wtseq)\n",
    "resid_min = np.min(residseq)\n",
    "place = np.where(resid_min == np.min(residseq))\n",
    "wtbest = wtseq[place]\n",
    "print('wtbest is: ')\n",
    "ypred = predict(X, wtbest.T)\n",
    "# print('y predict is: ', ypred)\n",
    "plt.plot(X, ypred)\n",
    "print('best wt matix is: ',wtbest)"
   ]
  },
  {
   "cell_type": "code",
   "execution_count": 6,
   "metadata": {},
   "outputs": [
    {
     "data": {
      "text/plain": [
       "(180,)"
      ]
     },
     "execution_count": 6,
     "metadata": {},
     "output_type": "execute_result"
    }
   ],
   "source": []
  },
  {
   "cell_type": "code",
   "execution_count": null,
   "metadata": {
    "collapsed": true
   },
   "outputs": [],
   "source": []
  }
 ],
 "metadata": {
  "kernelspec": {
   "display_name": "Python 3",
   "language": "python",
   "name": "python3"
  },
  "language_info": {
   "codemirror_mode": {
    "name": "ipython",
    "version": 3
   },
   "file_extension": ".py",
   "mimetype": "text/x-python",
   "name": "python",
   "nbconvert_exporter": "python",
   "pygments_lexer": "ipython3",
   "version": "3.6.5"
  }
 },
 "nbformat": 4,
 "nbformat_minor": 2
}
