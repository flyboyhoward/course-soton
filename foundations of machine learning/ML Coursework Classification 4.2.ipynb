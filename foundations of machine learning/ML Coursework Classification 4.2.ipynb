{
 "cells": [
  {
   "cell_type": "code",
   "execution_count": 59,
   "metadata": {
    "collapsed": true
   },
   "outputs": [],
   "source": [
    "%matplotlib inline \n",
    "import os\n",
    "import math\n",
    "import numpy as np\n",
    "import pandas as pd\n",
    "import matplotlib.pyplot as plt"
   ]
  },
  {
   "cell_type": "code",
   "execution_count": 60,
   "metadata": {
    "collapsed": false
   },
   "outputs": [
    {
     "name": "stdout",
     "output_type": "stream",
     "text": [
      "overall mean is:\n",
      "  [ 5.84333333  3.054       3.75866667  1.19866667]\n",
      "class mean is:\n",
      "  [[ 5.006  3.418  1.464  0.244]\n",
      " [ 5.936  2.77   4.26   1.326]\n",
      " [ 6.588  2.974  5.552  2.026]]\n",
      "S_b is:\n",
      "  [[ 0.42141422 -0.13022667  1.10109778  0.47575378]\n",
      " [-0.13022667  0.073184   -0.37370133 -0.14994933]\n",
      " [ 1.10109778 -0.37370133  2.91095822  1.24605422]\n",
      " [ 0.47575378 -0.14994933  1.24605422  0.53736089]]\n",
      "S_w is:\n",
      "  [[ 38.9562  13.683   24.614    5.6556]\n",
      " [ 13.683   17.035    8.12     4.9132]\n",
      " [ 24.614    8.12    27.22     6.2536]\n",
      " [  5.6556   4.9132   6.2536   6.1756]]\n"
     ]
    }
   ],
   "source": [
    "from sklearn.datasets import load_iris\n",
    "iris = load_iris()\n",
    "\n",
    "X = iris.data  # we only take the first two features.\n",
    "y = iris.target\n",
    "# plt.scatter(X[:, 0], X[:, 1], c=y, cmap=plt.cm.Set1, edgecolor='k')\n",
    "# plt.xlabel('Sepal length')\n",
    "# plt.ylabel('Sepal width')\n",
    "\n",
    "overall_mean = np.mean(X, axis=0)\n",
    "print('overall mean is:\\n ', overall_mean)\n",
    "\n",
    "class_mean = []\n",
    "for i in range(3):\n",
    "    left = i*50\n",
    "    right  = (i+1)*50\n",
    "    class_mean.append(np.mean(X[left:right,:], axis=0))\n",
    "print('class mean is:\\n ', np.asarray(class_mean))\n",
    "\n",
    "S_b = np.zeros((4,4))\n",
    "for i in range(3):\n",
    "    class_i = class_mean[i].reshape(4,1)\n",
    "    u = overall_mean.reshape(4,1)\n",
    "    S_bi = (class_i - u).dot((class_i - u).T) \n",
    "    S_b += 1/3*S_bi\n",
    "print('S_b is:\\n ', S_b)\n",
    "\n",
    "S_w = np.zeros((4,4))\n",
    "# for i in range(3):\n",
    "for classi in range(3):\n",
    "    class_i = class_mean[classi].reshape(4,1)\n",
    "    for i in range(50):\n",
    "        xi = classi*50 + i\n",
    "        x = X[xi].reshape(4,1)\n",
    "        S_wi = (x - class_i).dot((x - class_i).T)\n",
    "        S_w += S_wi\n",
    "print('S_w is:\\n ', S_w)\n",
    "\n"
   ]
  },
  {
   "cell_type": "code",
   "execution_count": 61,
   "metadata": {
    "collapsed": false,
    "scrolled": false
   },
   "outputs": [
    {
     "name": "stdout",
     "output_type": "stream",
     "text": [
      "\n",
      "Eigenvector 1: \n",
      "[[ 0.23365309]\n",
      " [-0.21910935]\n",
      " [-0.24143842]\n",
      " [ 0.29184989]]\n",
      "Eigenvalue 1: -4.03e-17\n",
      "\n",
      "Eigenvector 2: \n",
      "[[-0.12160131]\n",
      " [-0.04137085]\n",
      " [-0.0617256 ]\n",
      " [ 0.23924741]]\n",
      "Eigenvalue 2: 2.99e-17\n",
      "\n",
      "Eigenvector 3: \n",
      "[[ 0.00271023]\n",
      " [ 0.17771757]\n",
      " [-0.07672546]\n",
      " [ 0.23143536]]\n",
      "Eigenvalue 3: 1.85e-03\n",
      "\n",
      "Eigenvector 4: \n",
      "[[ 0.06757213]\n",
      " [ 0.12766643]\n",
      " [-0.18021086]\n",
      " [-0.23538158]]\n",
      "Eigenvalue 4: 2.15e-01\n"
     ]
    }
   ],
   "source": [
    "from scipy.linalg import eigh\n",
    "eig_vals, eig_vecs = eigh(S_b, S_w)\n",
    "for i in range(len(eig_vals)):\n",
    "    eigvec_sc = eig_vecs[:,i].reshape(4,1)   \n",
    "    print('\\nEigenvector {}: \\n{}'.format(i+1, eigvec_sc))\n",
    "    print('Eigenvalue {:}: {:.2e}'.format(i+1, eig_vals[i]))"
   ]
  },
  {
   "cell_type": "code",
   "execution_count": 62,
   "metadata": {
    "collapsed": false,
    "scrolled": false
   },
   "outputs": [
    {
     "name": "stdout",
     "output_type": "stream",
     "text": [
      "verify:\n",
      "[[  1.66533454e-16]\n",
      " [ -4.16333634e-17]\n",
      " [ -1.11022302e-16]\n",
      " [  2.77555756e-17]] is O\n",
      "is O\n",
      "[[  1.31838984e-16]\n",
      " [  1.45716772e-16]\n",
      " [ -6.93889390e-17]\n",
      " [ -5.55111512e-17]] is O\n",
      "is O\n",
      "[[ -1.59594560e-16]\n",
      " [  1.73472348e-17]\n",
      " [ -3.05311332e-16]\n",
      " [ -6.93889390e-17]] is O\n",
      "is O\n",
      "[[ -2.22044605e-16]\n",
      " [ -4.44089210e-16]\n",
      " [ -1.11022302e-16]\n",
      " [  5.55111512e-17]] is O\n",
      "is O\n"
     ]
    }
   ],
   "source": [
    "# verify each eigenvalue and eigen ve\n",
    "print('verify:')\n",
    "for i in range(4):  \n",
    "    verify = (S_b - eig_vals[i]*S_w).dot(eig_vecs[:,i].reshape(4,1))\n",
    "    print(verify,'is O')\n",
    "    print('is O')\n"
   ]
  },
  {
   "cell_type": "code",
   "execution_count": 63,
   "metadata": {
    "collapsed": false
   },
   "outputs": [
    {
     "name": "stdout",
     "output_type": "stream",
     "text": [
      "Variance explained:\n",
      "\n",
      "eigenvalue 1: -0.000%\n",
      "eigenvalue 2: 0.000%\n",
      "eigenvalue 3: 0.853%\n",
      "eigenvalue 4: 99.147%\n"
     ]
    }
   ],
   "source": [
    "print('Variance explained:\\n')\n",
    "eigv_sum = sum(eig_vals)\n",
    "for i,j in enumerate(eig_vals):\n",
    "    print('eigenvalue {0:}: {1:.3%}'.format(i+1, (eig_vals[i]/eigv_sum).real))"
   ]
  },
  {
   "cell_type": "code",
   "execution_count": 64,
   "metadata": {
    "collapsed": false,
    "scrolled": true
   },
   "outputs": [
    {
     "name": "stdout",
     "output_type": "stream",
     "text": [
      "Matrix W:\n",
      " [[ 0.06757213  0.00271023]\n",
      " [ 0.12766643  0.17771757]\n",
      " [-0.18021086 -0.07672546]\n",
      " [-0.23538158  0.23143536]]\n"
     ]
    }
   ],
   "source": [
    "W = np.hstack((eig_vecs[:,3].reshape(4,1), eig_vecs[:,2].reshape(4,1)))\n",
    "print('Matrix W:\\n', W)"
   ]
  },
  {
   "cell_type": "code",
   "execution_count": 65,
   "metadata": {
    "collapsed": false
   },
   "outputs": [],
   "source": [
    "def plot(W):\n",
    "    print('wt is:\\n',W)\n",
    "    X_lda = X.dot(W)\n",
    "    axes = np.shape(W)[1]\n",
    "    if axes == 1:\n",
    "        plt.hist(x = X_lda[0:50], bins = 10, color = 'r',label = 'Setosa', alpha = 0.3)\n",
    "        plt.hist(x = X_lda[51:100], bins = 10, color = 'g',label = 'Versicolor', alpha = 0.3) \n",
    "        plt.hist(x = X_lda[101:150], bins = 10, color = 'b', label ='Virginica', alpha = 0.3)\n",
    "        plt.legend()\n",
    "    else:\n",
    "       \n",
    "\n",
    "        plt.hist(x = X_lda[0:50, 0], bins = 10, color = 'r',label = 'Setosa', alpha = 0.3)\n",
    "        plt.hist(x = X_lda[51:100, 0], bins = 10, color = 'g',label = 'Versicolor', alpha = 0.3) \n",
    "        plt.hist(x = X_lda[101:150, 0], bins = 10, color = 'b',label ='Virginica', alpha = 0.3)\n",
    "        plt.legend()"
   ]
  },
  {
   "cell_type": "code",
   "execution_count": 67,
   "metadata": {
    "collapsed": false
   },
   "outputs": [
    {
     "data": {
      "image/png": "[encoded data removed]",
      "text/plain": [
       "<matplotlib.figure.Figure at 0x25ec25c2b70>"
      ]
     },
     "metadata": {},
     "output_type": "display_data"
    }
   ],
   "source": [
    "X_lda = X.dot(W)\n",
    "def plot_2d_lda():\n",
    "    ax = plt.subplot(111)\n",
    "    plt.scatter(x=X_lda[0:50,0],\n",
    "            y=X_lda[0:50,1],\n",
    "            marker = '^',\n",
    "            color = 'red',\n",
    "            alpha = 0.5,\n",
    "            label = 'Setosa'\n",
    "            )\n",
    "    plt.scatter(x=X_lda[51:100,0],\n",
    "            y=X_lda[51:100,1],\n",
    "            marker = 'o',\n",
    "            color = 'green',\n",
    "            alpha = 0.5,\n",
    "            label = 'Versicolor'\n",
    "            )\n",
    "    plt.scatter(x=X_lda[101:150,0],\n",
    "            y=X_lda[101:150,1],\n",
    "            marker = 'o',\n",
    "            color = 'blue',\n",
    "            alpha = 0.5,\n",
    "            label = 'Virginica'\n",
    "        )\n",
    "    \n",
    "    plt.xlabel('LD1')\n",
    "    plt.ylabel('LD2')\n",
    "\n",
    "    leg = plt.legend(loc='upper right', fancybox=True)\n",
    "    leg.get_frame().set_alpha(0.5)\n",
    "#     plt.title('LDA: Iris projection onto the first 2 linear discriminants')\n",
    "\n",
    "    # hide axis ticks\n",
    "    plt.tick_params(axis=\"both\", which=\"both\", bottom=\"off\", top=\"off\",  \n",
    "            labelbottom=\"on\", left=\"off\", right=\"off\", labelleft=\"on\")\n",
    "\n",
    "    # remove axis spines\n",
    "    ax.spines[\"top\"].set_visible(False)  \n",
    "    ax.spines[\"right\"].set_visible(False)\n",
    "    ax.spines[\"bottom\"].set_visible(False)\n",
    "    ax.spines[\"left\"].set_visible(False)    \n",
    "\n",
    "    plt.grid()\n",
    "    plt.tight_layout\n",
    "    plt.show()\n",
    "\n",
    "plot_2d_lda()\n"
   ]
  },
  {
   "cell_type": "code",
   "execution_count": 49,
   "metadata": {
    "collapsed": false,
    "scrolled": false
   },
   "outputs": [
    {
     "name": "stdout",
     "output_type": "stream",
     "text": [
      "wt is:\n",
      " [[ 0.06757213]\n",
      " [ 0.12766643]\n",
      " [-0.18021086]\n",
      " [-0.23538158]]\n"
     ]
    },
    {
     "data": {
      "image/png": "[encoded data removed]",
      "text/plain": [
       "<matplotlib.figure.Figure at 0x25ec2567438>"
      ]
     },
     "metadata": {},
     "output_type": "display_data"
    }
   ],
   "source": [
    "#one dimention eigen 4\n",
    "W = eig_vecs[:,3].reshape(4,1)\n",
    "plot(W)"
   ]
  },
  {
   "cell_type": "code",
   "execution_count": 50,
   "metadata": {
    "collapsed": false
   },
   "outputs": [
    {
     "name": "stdout",
     "output_type": "stream",
     "text": [
      "wt is:\n",
      " [[ 0.00271023]\n",
      " [ 0.17771757]\n",
      " [-0.07672546]\n",
      " [ 0.23143536]]\n"
     ]
    },
    {
     "data": {
      "image/png": "[encoded data removed]",
      "text/plain": [
       "<matplotlib.figure.Figure at 0x25ec25e1710>"
      ]
     },
     "metadata": {},
     "output_type": "display_data"
    }
   ],
   "source": [
    "#one dimention eigen 3\n",
    "W = eig_vecs[:,2].reshape(4,1)\n",
    "plot(W)"
   ]
  },
  {
   "cell_type": "code",
   "execution_count": 51,
   "metadata": {
    "collapsed": false
   },
   "outputs": [
    {
     "name": "stdout",
     "output_type": "stream",
     "text": [
      "wt is:\n",
      " [[ 0.16757213]\n",
      " [ 0.22766643]\n",
      " [-0.08021086]\n",
      " [-0.13538158]]\n"
     ]
    },
    {
     "data": {
      "image/png": "[encoded data removed]",
      "text/plain": [
       "<matplotlib.figure.Figure at 0x25ec4254ef0>"
      ]
     },
     "metadata": {},
     "output_type": "display_data"
    }
   ],
   "source": [
    "W = eig_vecs[:,3].reshape(4,1) + np.ones((4,1))*0.1\n",
    "plot(W)"
   ]
  },
  {
   "cell_type": "code",
   "execution_count": 54,
   "metadata": {
    "collapsed": false,
    "scrolled": false
   },
   "outputs": [
    {
     "data": {
      "image/png": "[encoded data removed]",
      "text/plain": [
       "<matplotlib.figure.Figure at 0x25ec424ebe0>"
      ]
     },
     "metadata": {},
     "output_type": "display_data"
    }
   ],
   "source": [
    "# plot w = w* + a of all eigenvalues\n",
    "fig, ax = plt.subplots(figsize=(20,5),nrows=1, ncols = 3)\n",
    "for i in range(3):\n",
    "    W = eig_vecs[:,3].reshape(4,1) + eig_vecs[:,i].reshape(4,1)\n",
    "    X_lda = X.dot(W)\n",
    "    #W = np.hstack((eig_vecs[:,3].reshape(4,1), eig_vecs[:,2].reshape(4,1)))\n",
    "    ax[i].hist(x = X_lda[0:50, 0], bins = 10, color = 'r',label = 'Setosa', alpha = 0.3)\n",
    "    ax[i].hist(x = X_lda[51:100, 0], bins = 10, color = 'g', label = 'Versicolor', alpha = 0.3) \n",
    "    ax[i].hist(x = X_lda[101:150, 0], bins = 10, color = 'b',label ='Virginica', alpha = 0.3)\n",
    "    ax[i].set_title('eigenvalue 4 + eigenvalue ' + str(i))\n",
    "    ax[i].legend()"
   ]
  },
  {
   "cell_type": "code",
   "execution_count": 47,
   "metadata": {
    "collapsed": false,
    "scrolled": false
   },
   "outputs": [
    {
     "name": "stdout",
     "output_type": "stream",
     "text": [
      "wt is:\n",
      " [[ 0.06757213  0.00271023]\n",
      " [ 0.12766643  0.17771757]\n",
      " [-0.18021086 -0.07672546]\n",
      " [-0.23538158  0.23143536]]\n"
     ]
    },
    {
     "data": {
      "image/png": "[encoded data removed]",
      "text/plain": [
       "<matplotlib.figure.Figure at 0x25ec276b9b0>"
      ]
     },
     "metadata": {},
     "output_type": "display_data"
    }
   ],
   "source": [
    "W = np.hstack((eig_vecs[:,3].reshape(4,1), eig_vecs[:,2].reshape(4,1)))\n",
    "plot(W)"
   ]
  },
  {
   "cell_type": "code",
   "execution_count": null,
   "metadata": {
    "collapsed": true
   },
   "outputs": [],
   "source": []
  }
 ],
 "metadata": {
  "kernelspec": {
   "display_name": "Python 3",
   "language": "python",
   "name": "python3"
  },
  "language_info": {
   "codemirror_mode": {
    "name": "ipython",
    "version": 3
   },
   "file_extension": ".py",
   "mimetype": "text/x-python",
   "name": "python",
   "nbconvert_exporter": "python",
   "pygments_lexer": "ipython3",
   "version": "3.6.0"
  }
 },
 "nbformat": 4,
 "nbformat_minor": 2
}
