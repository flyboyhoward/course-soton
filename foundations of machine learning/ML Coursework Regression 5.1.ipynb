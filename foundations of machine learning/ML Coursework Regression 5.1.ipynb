{
 "cells": [
  {
   "cell_type": "code",
   "execution_count": 93,
   "metadata": {},
   "outputs": [],
   "source": [
    "%matplotlib inline \n",
    "import os\n",
    "import math\n",
    "import numpy as np\n",
    "import pandas as pd\n",
    "import matplotlib.pyplot as plt"
   ]
  },
  {
   "cell_type": "markdown",
   "metadata": {},
   "source": [
    "### 5.1.1"
   ]
  },
  {
   "cell_type": "code",
   "execution_count": 94,
   "metadata": {},
   "outputs": [],
   "source": [
    "# define fit A mat\n",
    "def designmatpoly(X, wtvector):\n",
    "    X = X[:,0]\n",
    "    A_traint = np.ones(X.shape)\n",
    "    #print (len(wtvector), np.shape(A_traint))    \n",
    "    \n",
    "    for i in range(len(wtvector)-1):\n",
    "        X_row = X**(i + 1)\n",
    "        A_traint = np.vstack((A_traint, X_row))         \n",
    "    A_train = A_traint.T\n",
    "    #print (np.shape(A_train))\n",
    "    return A_train\n",
    "\n",
    "# regularisation gradient descent function\n",
    "def reg_gradientdescent(w, X, y, l2, rate, n_iterations):\n",
    "    wtseq = [w]\n",
    "    for iteration in range(n_iterations):\n",
    "        #print('iteration is:', iteration)\n",
    "        gradients =  2/len(X) * X.T.dot(X.dot(w) - y) + 2 * l2 * w\n",
    "        #print ('gradients',gradients)\n",
    "        w = w - rate * gradients\n",
    "    print ('final gradient',gradients)\n",
    "    return w\n",
    "\n",
    "# squared residuals\n",
    "def squared_residual(x_test, y_test, wt):\n",
    "    residual = 0\n",
    "    x_test = x_test[:,0]\n",
    "    \n",
    "    for i in range(len(x_test)):\n",
    "        y_predi = 0\n",
    "        x_testi = x_test[i]\n",
    "        for wti in range(len(wt)):\n",
    "            y_predi += wt[wti]*np.power(x_testi, wti)\n",
    "        residual += (y_test[i] - y_predi)**2   \n",
    "    #print('residual is:************ ', residual)\n",
    "    return residual\n",
    "\n",
    "# predicted value\n",
    "def predict(x, wt):    \n",
    "    y_pred = []\n",
    "    \n",
    "    for i in range(len(x)):\n",
    "        y_predi = 0\n",
    "        x_i = x[i]\n",
    "        for wti in range(len(wt)):\n",
    "            y_predi += wt[wti]*np.power(x_i, wti)\n",
    "#             print(wt[wti]*np.power(x_i, wti))\n",
    "#             print('---------------------------------')\n",
    "#         print('*************')\n",
    "        y_pred.append(y_predi)\n",
    "#   print('y_pred shape',np.shape(y_pred))\n",
    "    return y_pred"
   ]
  },
  {
   "cell_type": "code",
   "execution_count": 151,
   "metadata": {},
   "outputs": [],
   "source": [
    "# data preperation\n",
    "from sklearn.model_selection import train_test_split\n",
    "\n",
    "def f(x):\n",
    "    return np.sin(x)\n",
    "\n",
    "points = 180\n",
    "X = np.linspace(0, 2*np.pi,points)\n",
    "y = f(X)+np.random.normal(0,0.05,points)  # np.sqrt(np.abs(X))*\n",
    "X = np.atleast_2d(X).T\n",
    "\n",
    "X_train, X_test, y_train, y_test = train_test_split(X, y, test_size=0.33, random_state=40)"
   ]
  },
  {
   "cell_type": "markdown",
   "metadata": {},
   "source": [
    "### 5.1.2"
   ]
  },
  {
   "cell_type": "code",
   "execution_count": 152,
   "metadata": {},
   "outputs": [
    {
     "data": {
      "image/png": "[encoded data removed]",
      "text/plain": [
       "<Figure size 432x288 with 1 Axes>"
      ]
     },
     "metadata": {},
     "output_type": "display_data"
    }
   ],
   "source": [
    "# analytical expression\n",
    "from numpy.linalg import inv\n",
    "for i in range(4):\n",
    "    degree = i + 5\n",
    "    w0 = np.ones(degree)\n",
    "    A = designmatpoly(X, w0)\n",
    "    wt_analy = inv(A.T.dot(A) - 0.5*np.eye(degree)).dot(A.T).dot(y)\n",
    "    ypred = predict(X, wt_analy)\n",
    "    plt.plot(X, ypred, label = degree)\n",
    "    plt.legend()\n",
    "    plt.scatter(X,y, c='b')"
   ]
  },
  {
   "cell_type": "markdown",
   "metadata": {},
   "source": [
    "### 5.1.3 a"
   ]
  },
  {
   "cell_type": "code",
   "execution_count": 128,
   "metadata": {
    "scrolled": false
   },
   "outputs": [
    {
     "ename": "KeyboardInterrupt",
     "evalue": "",
     "output_type": "error",
     "traceback": [
      "\u001b[1;31m------------------------------------------------------------------------\u001b[0m",
      "\u001b[1;31mKeyboardInterrupt\u001b[0m                      Traceback (most recent call last)",
      "\u001b[1;32m<ipython-input-128-bcbdcf93ec7f>\u001b[0m in \u001b[0;36m<module>\u001b[1;34m()\u001b[0m\n\u001b[0;32m      8\u001b[0m \u001b[1;33m\u001b[0m\u001b[0m\n\u001b[0;32m      9\u001b[0m     \u001b[1;32mif\u001b[0m \u001b[0mdegree\u001b[0m \u001b[1;33m==\u001b[0m \u001b[1;36m5\u001b[0m\u001b[1;33m:\u001b[0m\u001b[1;33m\u001b[0m\u001b[0m\n\u001b[1;32m---> 10\u001b[1;33m         \u001b[0mwtfin\u001b[0m \u001b[1;33m=\u001b[0m \u001b[0mreg_gradientdescent\u001b[0m\u001b[1;33m(\u001b[0m\u001b[0mw0\u001b[0m\u001b[1;33m,\u001b[0m \u001b[0mA_train\u001b[0m\u001b[1;33m,\u001b[0m \u001b[0my_train\u001b[0m\u001b[1;33m,\u001b[0m \u001b[1;36m.5\u001b[0m\u001b[1;33m,\u001b[0m \u001b[0mrate\u001b[0m \u001b[1;33m=\u001b[0m \u001b[1;36m0.0000015\u001b[0m\u001b[1;33m,\u001b[0m \u001b[0mn_iterations\u001b[0m \u001b[1;33m=\u001b[0m \u001b[1;36m2000000\u001b[0m\u001b[1;33m)\u001b[0m \u001b[1;31m# take lamda = 1 here\u001b[0m\u001b[1;33m\u001b[0m\u001b[0m\n\u001b[0m\u001b[0;32m     11\u001b[0m     \u001b[1;32melif\u001b[0m \u001b[0mdegree\u001b[0m \u001b[1;33m==\u001b[0m \u001b[1;36m6\u001b[0m\u001b[1;33m:\u001b[0m\u001b[1;33m\u001b[0m\u001b[0m\n\u001b[0;32m     12\u001b[0m         \u001b[0mwtfin\u001b[0m \u001b[1;33m=\u001b[0m \u001b[0mreg_gradientdescent\u001b[0m\u001b[1;33m(\u001b[0m\u001b[0mw0\u001b[0m\u001b[1;33m,\u001b[0m \u001b[0mA_train\u001b[0m\u001b[1;33m,\u001b[0m \u001b[0my_train\u001b[0m\u001b[1;33m,\u001b[0m \u001b[1;36m1\u001b[0m\u001b[1;33m,\u001b[0m \u001b[0mrate\u001b[0m \u001b[1;33m=\u001b[0m \u001b[1;36m0.00000001\u001b[0m\u001b[1;33m,\u001b[0m \u001b[0mn_iterations\u001b[0m \u001b[1;33m=\u001b[0m \u001b[1;36m40000000\u001b[0m\u001b[1;33m)\u001b[0m \u001b[1;31m# take lamda = 1 here\u001b[0m\u001b[1;33m\u001b[0m\u001b[0m\n",
      "\u001b[1;32m<ipython-input-94-5609d23d9107>\u001b[0m in \u001b[0;36mreg_gradientdescent\u001b[1;34m(w, X, y, l2, rate, n_iterations)\u001b[0m\n\u001b[0;32m     17\u001b[0m     \u001b[1;32mfor\u001b[0m \u001b[0miteration\u001b[0m \u001b[1;32min\u001b[0m \u001b[0mrange\u001b[0m\u001b[1;33m(\u001b[0m\u001b[0mn_iterations\u001b[0m\u001b[1;33m)\u001b[0m\u001b[1;33m:\u001b[0m\u001b[1;33m\u001b[0m\u001b[0m\n\u001b[0;32m     18\u001b[0m         \u001b[1;31m#print('iteration is:', iteration)\u001b[0m\u001b[1;33m\u001b[0m\u001b[1;33m\u001b[0m\u001b[0m\n\u001b[1;32m---> 19\u001b[1;33m         \u001b[0mgradients\u001b[0m \u001b[1;33m=\u001b[0m  \u001b[1;36m2\u001b[0m\u001b[1;33m/\u001b[0m\u001b[0mlen\u001b[0m\u001b[1;33m(\u001b[0m\u001b[0mX\u001b[0m\u001b[1;33m)\u001b[0m \u001b[1;33m*\u001b[0m \u001b[0mX\u001b[0m\u001b[1;33m.\u001b[0m\u001b[0mT\u001b[0m\u001b[1;33m.\u001b[0m\u001b[0mdot\u001b[0m\u001b[1;33m(\u001b[0m\u001b[0mX\u001b[0m\u001b[1;33m.\u001b[0m\u001b[0mdot\u001b[0m\u001b[1;33m(\u001b[0m\u001b[0mw\u001b[0m\u001b[1;33m)\u001b[0m \u001b[1;33m-\u001b[0m \u001b[0my\u001b[0m\u001b[1;33m)\u001b[0m \u001b[1;33m+\u001b[0m \u001b[1;36m2\u001b[0m \u001b[1;33m*\u001b[0m \u001b[0ml2\u001b[0m \u001b[1;33m*\u001b[0m \u001b[0mw\u001b[0m\u001b[1;33m\u001b[0m\u001b[0m\n\u001b[0m\u001b[0;32m     20\u001b[0m         \u001b[1;31m#print ('gradients',gradients)\u001b[0m\u001b[1;33m\u001b[0m\u001b[1;33m\u001b[0m\u001b[0m\n\u001b[0;32m     21\u001b[0m         \u001b[0mw\u001b[0m \u001b[1;33m=\u001b[0m \u001b[0mw\u001b[0m \u001b[1;33m-\u001b[0m \u001b[0mrate\u001b[0m \u001b[1;33m*\u001b[0m \u001b[0mgradients\u001b[0m\u001b[1;33m\u001b[0m\u001b[0m\n",
      "\u001b[1;31mKeyboardInterrupt\u001b[0m: "
     ]
    },
    {
     "data": {
      "image/png": "[encoded data removed]",
      "text/plain": [
       "<Figure size 432x288 with 1 Axes>"
      ]
     },
     "metadata": {},
     "output_type": "display_data"
    }
   ],
   "source": [
    "plt.scatter(X_train,y_train, c='b')\n",
    "plt.scatter(X_test, y_test, c='r')\n",
    "\n",
    "for i in range(3):\n",
    "    degree = i + 5\n",
    "    w0 = np.ones(degree)  # polynomial degree\n",
    "    A_train = designmatpoly(X_train, w0)\n",
    "    \n",
    "    if degree == 5:\n",
    "        wtfin = reg_gradientdescent(w0, A_train, y_train, .5, rate = 0.0000015, n_iterations = 2000000) # take lamda = 1 here\n",
    "    elif degree == 6:\n",
    "        wtfin = reg_gradientdescent(w0, A_train, y_train, 1, rate = 0.00000001, n_iterations = 40000000) # take lamda = 1 here\n",
    "    elif degree == 7:\n",
    "        wtfin = reg_gradientdescent(w0, A_train, y_train, 1, rate = 0.000000002, n_iterations = 200000000) # take lamda = 1 here\n",
    "    else:\n",
    "        pass\n",
    "    print('init wt ',w0)\n",
    "    print('final weight ',wtfin)\n",
    "    resid = squared_residual(X_test, y_test, wtfin)\n",
    "    ypred = predict(X, wtfin)\n",
    "    plt.plot(X, ypred, label = degree)\n",
    "    plt.legend() \n",
    "    title = 'residual: ' + str(resid) + '  degree: ' + str(degree)\n",
    "    print(title)\n",
    "    print('~~~~~~~~~~~~~~~~~~~~~~~~~~~~~~~~~~~~~~~~~~~~~~~~~~~~~~~~~~~~~~~~~~~~~~~~~~~~~')"
   ]
  },
  {
   "cell_type": "code",
   "execution_count": null,
   "metadata": {},
   "outputs": [],
   "source": [
    "# [ 0.11808554  0.19689184  0.31727733 -0.19938172  0.02653888 -0.00056433]\n",
    "# [ 0.46099906  0.39040219  0.2214649  -0.00202124 -0.11955822  0.03388069\n",
    "#  -0.00255063]\n"
   ]
  },
  {
   "cell_type": "markdown",
   "metadata": {},
   "source": [
    "### 5.1.3 b"
   ]
  },
  {
   "cell_type": "code",
   "execution_count": null,
   "metadata": {
    "scrolled": false
   },
   "outputs": [
    {
     "name": "stdout",
     "output_type": "stream",
     "text": [
      "final gradient [ 0.0336225  -0.01930618 -0.00379113  0.00284663 -0.00030677]\n",
      "final gradient [ 0.02308633  0.00374194 -0.01799721  0.00608455 -0.00055055]\n",
      "final gradient [ 0.00862854  0.00263108 -0.00784268  0.00257357 -0.00023041]\n",
      "final gradient [ 2.70116650e-03  9.87842509e-04 -2.60384403e-03  8.45546418e-04\n",
      " -7.54143088e-05]\n",
      "final gradient [ 7.75832094e-04  3.09840669e-04 -7.71526331e-04  2.49202953e-04\n",
      " -2.21827252e-05]\n",
      "final gradient [ 2.11739376e-04  8.90875877e-05 -2.14663280e-04  6.91119365e-05\n",
      " -6.14459645e-06]\n",
      "final gradient [ 5.58643260e-05  2.43301314e-05 -5.73835160e-05  1.84347809e-05\n",
      " -1.63767316e-06]\n",
      "final gradient [ 1.43881093e-05  6.42214442e-06 -1.49204894e-05  4.78581708e-06\n",
      " -4.24905907e-07]\n",
      "final gradient [ 3.63951087e-06  1.65461755e-06 -3.80145448e-06  1.21790307e-06\n",
      " -1.08083449e-07]\n",
      "final gradient [ 0.22503662  0.08314804  0.00244655 -0.06857151  0.02189762 -0.0018469 ]\n",
      "final gradient [ 0.42188342  0.2417987   0.02867669 -0.18470391  0.0574745  -0.00481647]\n",
      "final gradient [ 0.5399713   0.34020026  0.045317   -0.25648069  0.07943388 -0.00664876]\n",
      "final gradient [ 0.60138531  0.39498232  0.05498229 -0.29616652  0.0915436  -0.00765852]\n",
      "final gradient [ 0.6227917   0.41872529  0.05965448 -0.31303713  0.096653   -0.00808374]\n"
     ]
    }
   ],
   "source": [
    "# calculate best of lambda\n",
    "l2_coef = np.linspace(0,2,9)\n",
    "fig, ax = plt.subplots(figsize=(20,5), nrows=1, ncols=3)\n",
    "resid = np.zeros((3,9))\n",
    "\n",
    "for i in range(3):\n",
    "    degree = i + 5\n",
    "    w0 = np.ones(degree)  # polynomial degree\n",
    "    A_train = designmatpoly(X_train, w0)\n",
    "    for l2, l2_coefi in enumerate(l2_coef):\n",
    "        if degree == 5:\n",
    "            wtfin5 = reg_gradientdescent(w0, A_train, y_train, l2_coefi, rate = 0.0000015, n_iterations = 2000000)\n",
    "            resid[i,l2] = squared_residual(X_test, y_test, wtfin5)\n",
    "        elif degree == 6:\n",
    "            pass\n",
    "            wtfin6 = reg_gradientdescent(w0, A_train, y_train, l2_coefi, rate = 0.00000001, n_iterations = 40000000)\n",
    "            resid[i,l2] = squared_residual(X_test, y_test, wtfin6)\n",
    "        elif degree == 7:\n",
    "            pass\n",
    "            wtfin7 = reg_gradientdescent(w0, A_train, y_train, l2_coefi, rate = 0.000000002, n_iterations = 200000000)\n",
    "            resid[i,l2] = squared_residual(X_test, y_test, wtfin7)\n",
    "        else:\n",
    "            pass\n",
    "    ax[i].plot(l2_coef, resid[i,:])\n",
    "    ax[i].set_title('when degree is: ' + str(degree))\n"
   ]
  },
  {
   "cell_type": "code",
   "execution_count": 150,
   "metadata": {},
   "outputs": [
    {
     "data": {
      "text/plain": [
       "Text(0.5,1,'when degree is: 5')"
      ]
     },
     "execution_count": 150,
     "metadata": {},
     "output_type": "execute_result"
    }
   ],
   "source": [
    "ax[i].set_title('when degree is: ' + str(degree))"
   ]
  },
  {
   "cell_type": "code",
   "execution_count": null,
   "metadata": {},
   "outputs": [],
   "source": []
  }
 ],
 "metadata": {
  "kernelspec": {
   "display_name": "Python 3",
   "language": "python",
   "name": "python3"
  },
  "language_info": {
   "codemirror_mode": {
    "name": "ipython",
    "version": 3
   },
   "file_extension": ".py",
   "mimetype": "text/x-python",
   "name": "python",
   "nbconvert_exporter": "python",
   "pygments_lexer": "ipython3",
   "version": "3.6.5"
  }
 },
 "nbformat": 4,
 "nbformat_minor": 2
}
