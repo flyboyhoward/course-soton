{
 "cells": [
  {
   "cell_type": "code",
   "execution_count": 3,
   "metadata": {},
   "outputs": [],
   "source": [
    "%matplotlib inline \n",
    "import os\n",
    "import math\n",
    "import numpy as np\n",
    "import pandas as pd\n",
    "import matplotlib.pyplot as plt"
   ]
  },
  {
   "cell_type": "code",
   "execution_count": 4,
   "metadata": {},
   "outputs": [
    {
     "name": "stdout",
     "output_type": "stream",
     "text": [
      "overall mean is:\n",
      "  [5.84333333 3.054      3.75866667 1.19866667]\n",
      "class mean is:\n",
      "  [[5.006 3.418 1.464 0.244]\n",
      " [5.936 2.77  4.26  1.326]\n",
      " [6.588 2.974 5.552 2.026]]\n",
      "S_b is:\n",
      "  [[ 0.42141422 -0.13022667  1.10109778  0.47575378]\n",
      " [-0.13022667  0.073184   -0.37370133 -0.14994933]\n",
      " [ 1.10109778 -0.37370133  2.91095822  1.24605422]\n",
      " [ 0.47575378 -0.14994933  1.24605422  0.53736089]]\n",
      "S_w is:\n",
      "  [[38.9562 13.683  24.614   5.6556]\n",
      " [13.683  17.035   8.12    4.9132]\n",
      " [24.614   8.12   27.22    6.2536]\n",
      " [ 5.6556  4.9132  6.2536  6.1756]]\n"
     ]
    }
   ],
   "source": [
    "from sklearn.datasets import load_iris\n",
    "iris = load_iris()\n",
    "\n",
    "X = iris.data  # we only take the first two features.\n",
    "y = iris.target\n",
    "# plt.scatter(X[:, 0], X[:, 1], c=y, cmap=plt.cm.Set1, edgecolor='k')\n",
    "# plt.xlabel('Sepal length')\n",
    "# plt.ylabel('Sepal width')\n",
    "\n",
    "overall_mean = np.mean(X, axis=0)\n",
    "print('overall mean is:\\n ', overall_mean)\n",
    "\n",
    "class_mean = []\n",
    "for i in range(3):\n",
    "    left = i*50\n",
    "    right  = (i+1)*50\n",
    "    class_mean.append(np.mean(X[left:right,:], axis=0))\n",
    "print('class mean is:\\n ', np.asarray(class_mean))\n",
    "\n",
    "S_b = np.zeros((4,4))\n",
    "for i in range(3):\n",
    "    class_i = class_mean[i].reshape(4,1)\n",
    "    u = overall_mean.reshape(4,1)\n",
    "    S_bi = (class_i - u).dot((class_i - u).T) \n",
    "    S_b += 1/3*S_bi\n",
    "print('S_b is:\\n ', S_b)\n",
    "\n",
    "S_w = np.zeros((4,4))\n",
    "# for i in range(3):\n",
    "for classi in range(3):\n",
    "    class_i = class_mean[classi].reshape(4,1)\n",
    "    for i in range(50):\n",
    "        xi = classi*50 + i\n",
    "        x = X[xi].reshape(4,1)\n",
    "        S_wi = (x - class_i).dot((x - class_i).T)\n",
    "        S_w += S_wi\n",
    "print('S_w is:\\n ', S_w)\n",
    "\n"
   ]
  },
  {
   "cell_type": "code",
   "execution_count": 5,
   "metadata": {
    "scrolled": false
   },
   "outputs": [
    {
     "name": "stdout",
     "output_type": "stream",
     "text": [
      "\n",
      "Eigenvector 1: \n",
      "[[-0.26174445]\n",
      " [ 0.18960175]\n",
      " [ 0.20312365]\n",
      " [-0.18636732]]\n",
      "Eigenvalue 1: -2.17e-17\n",
      "\n",
      "Eigenvector 2: \n",
      "[[ 0.02950407]\n",
      " [ 0.11735258]\n",
      " [ 0.14437224]\n",
      " [-0.32815074]]\n",
      "Eigenvalue 2: 1.17e-17\n",
      "\n",
      "Eigenvector 3: \n",
      "[[ 0.00271023]\n",
      " [ 0.17771757]\n",
      " [-0.07672546]\n",
      " [ 0.23143536]]\n",
      "Eigenvalue 3: 1.85e-03\n",
      "\n",
      "Eigenvector 4: \n",
      "[[ 0.06757213]\n",
      " [ 0.12766643]\n",
      " [-0.18021086]\n",
      " [-0.23538158]]\n",
      "Eigenvalue 4: 2.15e-01\n"
     ]
    }
   ],
   "source": [
    "from scipy.linalg import eigh\n",
    "eig_vals, eig_vecs = eigh(S_b, S_w)\n",
    "for i in range(len(eig_vals)):\n",
    "    eigvec_sc = eig_vecs[:,i].reshape(4,1)   \n",
    "    print('\\nEigenvector {}: \\n{}'.format(i+1, eigvec_sc))\n",
    "    print('Eigenvalue {:}: {:.2e}'.format(i+1, eig_vals[i]))"
   ]
  },
  {
   "cell_type": "code",
   "execution_count": 6,
   "metadata": {
    "scrolled": false
   },
   "outputs": [
    {
     "name": "stdout",
     "output_type": "stream",
     "text": [
      "verify:\n",
      "[[-1.80411242e-16]\n",
      " [ 2.08166817e-17]\n",
      " [-2.22044605e-16]\n",
      " [-5.55111512e-17]]\n",
      "is O\n",
      "[[-8.32667268e-17]\n",
      " [-3.46944695e-17]\n",
      " [-5.55111512e-17]\n",
      " [ 0.00000000e+00]]\n",
      "is O\n",
      "[[-5.55111512e-17]\n",
      " [-1.49186219e-16]\n",
      " [-2.77555756e-17]\n",
      " [-1.38777878e-17]]\n",
      "is O\n",
      "[[-1.11022302e-16]\n",
      " [-5.27355937e-16]\n",
      " [ 5.55111512e-17]\n",
      " [-4.16333634e-17]]\n",
      "is O\n"
     ]
    }
   ],
   "source": [
    "# verify each eigenvalue and eigen ve\n",
    "print('verify:')\n",
    "for i in range(4):  \n",
    "    verify = (S_b - eig_vals[i]*S_w).dot(eig_vecs[:,i].reshape(4,1))\n",
    "    print(verify)\n",
    "    print('is O')\n"
   ]
  },
  {
   "cell_type": "code",
   "execution_count": 7,
   "metadata": {},
   "outputs": [
    {
     "name": "stdout",
     "output_type": "stream",
     "text": [
      "Variance explained:\n",
      "\n",
      "eigenvalue 1: -0.000%\n",
      "eigenvalue 2: 0.000%\n",
      "eigenvalue 3: 0.853%\n",
      "eigenvalue 4: 99.147%\n"
     ]
    }
   ],
   "source": [
    "print('Variance explained:\\n')\n",
    "eigv_sum = sum(eig_vals)\n",
    "for i,j in enumerate(eig_vals):\n",
    "    print('eigenvalue {0:}: {1:.3%}'.format(i+1, (eig_vals[i]/eigv_sum).real))"
   ]
  },
  {
   "cell_type": "code",
   "execution_count": 12,
   "metadata": {
    "scrolled": true
   },
   "outputs": [
    {
     "name": "stdout",
     "output_type": "stream",
     "text": [
      "Matrix W:\n",
      " [[ 0.06757213  0.00271023]\n",
      " [ 0.12766643  0.17771757]\n",
      " [-0.18021086 -0.07672546]\n",
      " [-0.23538158  0.23143536]]\n"
     ]
    }
   ],
   "source": [
    "W = np.hstack((eig_vecs[:,3].reshape(4,1), eig_vecs[:,2].reshape(4,1)))\n",
    "print('Matrix W:\\n', W)"
   ]
  },
  {
   "cell_type": "code",
   "execution_count": 13,
   "metadata": {},
   "outputs": [],
   "source": [
    "def plot(W):\n",
    "    print('wt is:\\n',W)\n",
    "    X_lda = X.dot(W)\n",
    "    axes = np.shape(W)[1]\n",
    "    if axes == 1:\n",
    "        plt.hist(x = X_lda[0:50], bins = 10, color = 'r', alpha = 0.3)\n",
    "        plt.hist(x = X_lda[51:100], bins = 10, color = 'g', alpha = 0.3) \n",
    "        plt.hist(x = X_lda[101:150], bins = 10, color = 'b', alpha = 0.3)\n",
    "    else:\n",
    "        fig, ax = plt.subplots(figsize=(20,5),nrows=1, ncols = axes)\n",
    "        for feature_i in range(axes):\n",
    "            ax[feature_i].hist(x = X_lda[0:50, feature_i], bins = 10, color = 'r', alpha = 0.3)\n",
    "            ax[feature_i].hist(x = X_lda[51:100, feature_i], bins = 10, color = 'g', alpha = 0.3) \n",
    "            ax[feature_i].hist(x = X_lda[101:150, feature_i], bins = 10, color = 'b', alpha = 0.3)"
   ]
  },
  {
   "cell_type": "code",
   "execution_count": 18,
   "metadata": {},
   "outputs": [
    {
     "name": "stderr",
     "output_type": "stream",
     "text": [
      "C:\\Apps\\Anaconda3\\lib\\site-packages\\matplotlib\\cbook\\deprecation.py:107: MatplotlibDeprecationWarning: Passing one of 'on', 'true', 'off', 'false' as a boolean is deprecated; use an actual boolean (True/False) instead.\n",
      "  warnings.warn(message, mplDeprecation, stacklevel=1)\n"
     ]
    },
    {
     "data": {
      "image/png": "[encoded data removed]",
      "text/plain": [
       "<Figure size 432x288 with 1 Axes>"
      ]
     },
     "metadata": {},
     "output_type": "display_data"
    }
   ],
   "source": [
    "X_lda = X.dot(W)\n",
    "def plot_2d_lda():\n",
    "    ax = plt.subplot(111)\n",
    "    plt.scatter(x=X_lda[0:50,0],\n",
    "            y=X_lda[0:50,1],\n",
    "            marker = '^',\n",
    "            color = 'red',\n",
    "            alpha = 0.5,\n",
    "            label = 'Setosa'\n",
    "            )\n",
    "    plt.scatter(x=X_lda[51:100,0],\n",
    "            y=X_lda[51:100,1],\n",
    "            marker = 'o',\n",
    "            color = 'green',\n",
    "            alpha = 0.5,\n",
    "            label = 'Versicolor'\n",
    "            )\n",
    "    plt.scatter(x=X_lda[101:150,0],\n",
    "            y=X_lda[101:150,1],\n",
    "            marker = 'o',\n",
    "            color = 'blue',\n",
    "            alpha = 0.5,\n",
    "            label = 'Virginica'\n",
    "        )\n",
    "    \n",
    "    plt.xlabel('LD1')\n",
    "    plt.ylabel('LD2')\n",
    "\n",
    "    leg = plt.legend(loc='upper right', fancybox=True)\n",
    "    leg.get_frame().set_alpha(0.5)\n",
    "    plt.title('LDA: Iris projection onto the first 2 linear discriminants')\n",
    "\n",
    "    # hide axis ticks\n",
    "    plt.tick_params(axis=\"both\", which=\"both\", bottom=\"off\", top=\"off\",  \n",
    "            labelbottom=\"on\", left=\"off\", right=\"off\", labelleft=\"on\")\n",
    "\n",
    "    # remove axis spines\n",
    "    ax.spines[\"top\"].set_visible(False)  \n",
    "    ax.spines[\"right\"].set_visible(False)\n",
    "    ax.spines[\"bottom\"].set_visible(False)\n",
    "    ax.spines[\"left\"].set_visible(False)    \n",
    "\n",
    "    plt.grid()\n",
    "    plt.tight_layout\n",
    "    plt.show()\n",
    "\n",
    "plot_2d_lda()\n"
   ]
  },
  {
   "cell_type": "code",
   "execution_count": 10,
   "metadata": {
    "scrolled": false
   },
   "outputs": [
    {
     "name": "stdout",
     "output_type": "stream",
     "text": [
      "wt is:\n",
      " [[ 0.06757213]\n",
      " [ 0.12766643]\n",
      " [-0.18021086]\n",
      " [-0.23538158]]\n"
     ]
    },
    {
     "data": {
      "image/png": "[encoded data removed]",
      "text/plain": [
       "<Figure size 432x288 with 1 Axes>"
      ]
     },
     "metadata": {},
     "output_type": "display_data"
    }
   ],
   "source": [
    "#one dimention\n",
    "W = eig_vecs[:,3].reshape(4,1)\n",
    "plot(W)"
   ]
  },
  {
   "cell_type": "code",
   "execution_count": 198,
   "metadata": {},
   "outputs": [
    {
     "name": "stdout",
     "output_type": "stream",
     "text": [
      "wt is:\n",
      " [[ 0.16757213]\n",
      " [ 0.22766643]\n",
      " [-0.08021086]\n",
      " [-0.13538158]]\n"
     ]
    },
    {
     "data": {
      "image/png": "[encoded data removed]",
      "text/plain": [
       "<matplotlib.figure.Figure at 0x2599271ccc0>"
      ]
     },
     "metadata": {},
     "output_type": "display_data"
    }
   ],
   "source": [
    "W = eig_vecs[:,3].reshape(4,1) + np.ones((4,1))*0.1\n",
    "plot(W)"
   ]
  },
  {
   "cell_type": "code",
   "execution_count": 11,
   "metadata": {},
   "outputs": [
    {
     "name": "stdout",
     "output_type": "stream",
     "text": [
      "wt is:\n",
      " [[ 0.07028236]\n",
      " [ 0.305384  ]\n",
      " [-0.25693632]\n",
      " [-0.00394622]]\n"
     ]
    },
    {
     "data": {
      "image/png": "[encoded data removed]",
      "text/plain": [
       "<Figure size 432x288 with 1 Axes>"
      ]
     },
     "metadata": {},
     "output_type": "display_data"
    }
   ],
   "source": [
    "W = eig_vecs[:,3].reshape(4,1) + eig_vecs[:,2].reshape(4,1)\n",
    "#W = np.hstack((eig_vecs[:,3].reshape(4,1), eig_vecs[:,2].reshape(4,1)))\n",
    "plot(W)"
   ]
  },
  {
   "cell_type": "code",
   "execution_count": 19,
   "metadata": {
    "scrolled": false
   },
   "outputs": [
    {
     "name": "stdout",
     "output_type": "stream",
     "text": [
      "wt is:\n",
      " [[ 0.06757213  0.00271023]\n",
      " [ 0.12766643  0.17771757]\n",
      " [-0.18021086 -0.07672546]\n",
      " [-0.23538158  0.23143536]]\n"
     ]
    },
    {
     "data": {
      "image/png": "[encoded data removed]",
      "text/plain": [
       "<Figure size 1440x360 with 2 Axes>"
      ]
     },
     "metadata": {},
     "output_type": "display_data"
    }
   ],
   "source": [
    "W = np.hstack((eig_vecs[:,3].reshape(4,1), eig_vecs[:,2].reshape(4,1)))\n",
    "plot(W)"
   ]
  },
  {
   "cell_type": "code",
   "execution_count": null,
   "metadata": {
    "collapsed": true
   },
   "outputs": [],
   "source": []
  }
 ],
 "metadata": {
  "kernelspec": {
   "display_name": "Python 3",
   "language": "python",
   "name": "python3"
  },
  "language_info": {
   "codemirror_mode": {
    "name": "ipython",
    "version": 3
   },
   "file_extension": ".py",
   "mimetype": "text/x-python",
   "name": "python",
   "nbconvert_exporter": "python",
   "pygments_lexer": "ipython3",
   "version": "3.6.5"
  }
 },
 "nbformat": 4,
 "nbformat_minor": 2
}
